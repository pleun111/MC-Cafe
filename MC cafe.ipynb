{
 "cells": [
  {
   "cell_type": "code",
   "execution_count": 78,
   "id": "b32b6fa1",
   "metadata": {
    "scrolled": true
   },
   "outputs": [
    {
     "name": "stdout",
     "output_type": "stream",
     "text": [
      "Welcome to MC Cafe\n",
      "Would you like to see the menu?\n"
     ]
    }
   ],
   "source": [
    "print(\"Welcome to MC Cafe\")\n",
    "print(\"Would you like to see the menu?\")"
   ]
  },
  {
   "cell_type": "code",
   "execution_count": 80,
   "id": "ce242e3b",
   "metadata": {},
   "outputs": [
    {
     "name": "stdout",
     "output_type": "stream",
     "text": [
      "Would you like to see the menu?  n\n",
      "See you later!\n"
     ]
    }
   ],
   "source": [
    "menu = input(\"Would you like to see the menu?  \")\n",
    "if menu == \"y\":\n",
    "    print(\"\\n\"\n",
    "          \"Coffee\\n\"\n",
    "          \" C1  Espresso    - $1.50 \\n\" \n",
    "          \" C2  Americano   - $2.00\\n\"\n",
    "          \" C3  Caffe latte - $2.25\\n\"\n",
    "          \" C4  Mocha       - $2.25\\n\"\n",
    "          \" C5  Cappucino   - $2.50\\n\"\n",
    "          \" C6  Macchiato   - $2.50\\n\\n\"\n",
    "          \"Tea\\n\"\n",
    "          \" T1  White tea  - $1.50\\n\"\n",
    "          \" T2  Green tea  - $2.00\\n\"\n",
    "          \" T3  Oolong tea - $2.25\\n\"\n",
    "          \" T4  Black tea  - $2.25\\n\"\n",
    "          \" T5  Earl Grey  - $2.50\\n\"\n",
    "          \" T6 Matcha     - $2.50\\n\\n\"\n",
    "          \"Pastries\\n\"\n",
    "          \" P1 Croissant      - $5.50\\n\"\n",
    "          \" P2 Cinnamon roll  - $4.50\\n\"\n",
    "          \" P3 Banana bread   - $4.25\\n\"\n",
    "          \" P4 Pumpkin bread  - $3.75\\n\"\n",
    "          \" P5 Sticky bun     - $4.25\\n\"\n",
    "          \" P6 Apple turnover - $3.75\\n\\n\")\n",
    "else :\n",
    "    print(\"See you later!\")    "
   ]
  },
  {
   "cell_type": "code",
   "execution_count": 82,
   "id": "6ac6ec27",
   "metadata": {},
   "outputs": [
    {
     "name": "stdout",
     "output_type": "stream",
     "text": [
      "Would you like to order?  y\n",
      "What would you like to order today?:c2\n",
      "c2\n",
      "How many do you want?:3\n",
      "3\n",
      "Would you like to order?  y\n",
      "What would you like to order today?:c1\n",
      "c1\n",
      "How many do you want?:3\n",
      "3\n",
      "Would you like to order?  n\n",
      "\n"
     ]
    }
   ],
   "source": [
    "order = input(\"Would you like to order?  \")\n",
    "while order == \"y\":\n",
    "    print(input(\"What would you like to order today?:\"))\n",
    "    print(input(\"How many do you want?:\"))\n",
    "    order = input(\"Would you like to order?  \")\n",
    "else:\n",
    "    print(\"\")   "
   ]
  },
  {
   "cell_type": "code",
   "execution_count": 88,
   "id": "62b01f5e",
   "metadata": {},
   "outputs": [],
   "source": [
    "Menu = { \"C1\":\"Espresso\",\"C2\":\"Americano\",\"C3\":\"Caffe latte\",\"C4\":\"Mocha\",\"C5\":\"Cappucino\",\"C6\":\"Macchiato\",\n",
    "         \"T1\":\"White tea\",\"T2\":\"Green tea\",\"T3\":\"Oolong tea\",\"T4\": \"Black tea\",\"T5\":\"Earl Grey\",\"T6\":\"Matcha\", \n",
    "         \"P1\":\"Croissant\",\"P2\":\"Cinnamon roll\",\"P3\":\"Banana bread\",\"P4\":\"Pumpkin bread\",\"P5\":\"Sticky bun\",\n",
    "         \"P6\":\"Apple turnover\"}"
   ]
  },
  {
   "cell_type": "code",
   "execution_count": 84,
   "id": "c410440d",
   "metadata": {},
   "outputs": [
    {
     "name": "stdout",
     "output_type": "stream",
     "text": [
      "['Espresso', 'Americano', 'Caffe latte', 'Mocha', 'Cappucino', 'Macchiato', 'White tea', 'Green tea', 'Oolong tea', 'Black tea', 'Earl Grey', 'Matcha', 'Croissant', 'Cinnamon roll', 'Banana bread', 'Pumpkin bread', 'Sticky bun', 'Apple turnover']\n"
     ]
    }
   ],
   "source": [
    "print(Menu)"
   ]
  },
  {
   "cell_type": "code",
   "execution_count": null,
   "id": "4e510e3d",
   "metadata": {},
   "outputs": [],
   "source": []
  }
 ],
 "metadata": {
  "kernelspec": {
   "display_name": "Python 3",
   "language": "python",
   "name": "python3"
  },
  "language_info": {
   "codemirror_mode": {
    "name": "ipython",
    "version": 3
   },
   "file_extension": ".py",
   "mimetype": "text/x-python",
   "name": "python",
   "nbconvert_exporter": "python",
   "pygments_lexer": "ipython3",
   "version": "3.8.8"
  }
 },
 "nbformat": 4,
 "nbformat_minor": 5
}
